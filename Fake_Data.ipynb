{
  "nbformat": 4,
  "nbformat_minor": 0,
  "metadata": {
    "colab": {
      "name": "Fake_Data.ipynb",
      "provenance": [],
      "authorship_tag": "ABX9TyOLkNdsbZ6jaJOtYSbbA/pF",
      "include_colab_link": true
    },
    "kernelspec": {
      "name": "python3",
      "display_name": "Python 3"
    },
    "language_info": {
      "name": "python"
    }
  },
  "cells": [
    {
      "cell_type": "markdown",
      "metadata": {
        "id": "view-in-github",
        "colab_type": "text"
      },
      "source": [
        "<a href=\"https://colab.research.google.com/github/aruanalucena/data-science/blob/master/Fake_Data.ipynb\" target=\"_parent\"><img src=\"https://colab.research.google.com/assets/colab-badge.svg\" alt=\"Open In Colab\"/></a>"
      ]
    },
    {
      "cell_type": "code",
      "metadata": {
        "id": "qspbEvUCxoXL"
      },
      "source": [
        "import pandas as pd"
      ],
      "execution_count": 1,
      "outputs": []
    },
    {
      "cell_type": "code",
      "metadata": {
        "colab": {
          "base_uri": "https://localhost:8080/"
        },
        "id": "OhpX4bIAx72j",
        "outputId": "f01b5c33-b7ae-4d83-f439-03727807cb2a"
      },
      "source": [
        "!pip install faker"
      ],
      "execution_count": 3,
      "outputs": [
        {
          "output_type": "stream",
          "text": [
            "Collecting faker\n",
            "\u001b[?25l  Downloading https://files.pythonhosted.org/packages/d0/f3/f96171ed08ded6a212b36ae1530c145fe55f37017ad598d56199d19023d0/Faker-7.0.1-py3-none-any.whl (1.2MB)\n",
            "\u001b[K     |████████████████████████████████| 1.2MB 6.2MB/s \n",
            "\u001b[?25hRequirement already satisfied: text-unidecode==1.3 in /usr/local/lib/python3.7/dist-packages (from faker) (1.3)\n",
            "Requirement already satisfied: python-dateutil>=2.4 in /usr/local/lib/python3.7/dist-packages (from faker) (2.8.1)\n",
            "Requirement already satisfied: six>=1.5 in /usr/local/lib/python3.7/dist-packages (from python-dateutil>=2.4->faker) (1.15.0)\n",
            "Installing collected packages: faker\n",
            "Successfully installed faker-7.0.1\n"
          ],
          "name": "stdout"
        }
      ]
    },
    {
      "cell_type": "code",
      "metadata": {
        "colab": {
          "base_uri": "https://localhost:8080/"
        },
        "id": "Y8LEUj3ZwfLk",
        "outputId": "ca8f7485-583c-4b87-a3bc-b26ceb780631"
      },
      "source": [
        "from faker import Faker\n",
        "\n",
        "# To create a json file\n",
        "import json\t\t\n",
        "\n",
        "# For student id\n",
        "from random import randint\t\n",
        "\n",
        "fake = Faker()\n",
        "\n",
        "def input_data(x):\n",
        "\n",
        "\t# dictionary\n",
        "\tstudent_data ={}\n",
        "\tfor i in range(0, x):\n",
        "\t\tstudent_data[i]={}\n",
        "\t\tstudent_data[i]['id']= randint(1, 100)\n",
        "\t\tstudent_data[i]['name']= fake.name()\n",
        "\t\tstudent_data[i]['address']= fake.address()\n",
        "\t\tstudent_data[i]['latitude']= str(fake.latitude())\n",
        "\t\tstudent_data[i]['longitude']= str(fake.longitude())\n",
        "\tprint(student_data)\n",
        "\n",
        "\t# dictionary dumped as json in a json file\n",
        "\twith open('students.json', 'w') as fp:\n",
        "\t\tjson.dump(student_data, fp)\n",
        "\t\n",
        "\n",
        "def main():\n",
        "\n",
        "\t# Enter number of students\n",
        "\t# For the above task make this 100\n",
        "\tnumber_of_students = 100\n",
        "\tinput_data(number_of_students)\n",
        "main()\n",
        "# The folder or location where this python code\n",
        "# is save there a students.json will be created\n",
        "# having 10 students data.\n"
      ],
      "execution_count": 9,
      "outputs": [
        {
          "output_type": "stream",
          "text": [
            "{0: {'id': 37, 'name': 'Rachel Hahn', 'address': '638 Veronica Fall Suite 314\\nJohnsonville, UT 77675', 'latitude': '-42.3684385', 'longitude': '-130.341814'}, 1: {'id': 19, 'name': 'Katherine Parker', 'address': '04220 Edwin Meadows Apt. 315\\nLake Erikhaven, UT 89387', 'latitude': '39.352575', 'longitude': '-124.467468'}, 2: {'id': 34, 'name': 'Michelle Hoffman', 'address': 'Unit 6456 Box 2281\\nDPO AE 49570', 'latitude': '-1.1364965', 'longitude': '130.198077'}, 3: {'id': 33, 'name': 'Diane Scott', 'address': 'Unit 0028 Box 5765\\nDPO AP 88187', 'latitude': '-49.2360705', 'longitude': '15.281250'}, 4: {'id': 83, 'name': 'Paula Morales', 'address': '525 Cory Meadow Suite 532\\nPort Anitaberg, NY 22022', 'latitude': '65.2779495', 'longitude': '13.741428'}, 5: {'id': 91, 'name': 'Chase Pacheco', 'address': '0170 Thompson Curve\\nWarnermouth, KY 32585', 'latitude': '-18.7342735', 'longitude': '-99.429869'}, 6: {'id': 20, 'name': 'Barbara Hardy', 'address': '227 Kelly Neck Suite 388\\nFeliciaport, ME 65759', 'latitude': '-37.397650', 'longitude': '7.561780'}, 7: {'id': 99, 'name': 'Ryan Clarke', 'address': '293 Cheryl Way Apt. 663\\nNew Nicholeport, OH 07325', 'latitude': '-29.243594', 'longitude': '-20.751657'}, 8: {'id': 18, 'name': 'Christina Green', 'address': '30481 Jeffrey Well Suite 280\\nPort Melanieside, IN 13265', 'latitude': '-28.522647', 'longitude': '-134.440180'}, 9: {'id': 78, 'name': 'Kimberly Torres', 'address': '91362 Salazar Row\\nKaylaborough, UT 30915', 'latitude': '-84.093372', 'longitude': '156.329250'}, 10: {'id': 59, 'name': 'Tina Day', 'address': '33577 Green Gardens\\nSouth Shelly, SC 51065', 'latitude': '-72.735023', 'longitude': '-110.027401'}, 11: {'id': 27, 'name': 'Jennifer Terry', 'address': '38849 Hudson Drives Suite 145\\nKyleburgh, VA 40830', 'latitude': '32.0685125', 'longitude': '-75.121070'}, 12: {'id': 15, 'name': 'George Lyons', 'address': '72959 John Extensions\\nAyalamouth, AK 87040', 'latitude': '11.852228', 'longitude': '-56.816572'}, 13: {'id': 76, 'name': 'Jennifer Hendricks', 'address': '899 Wagner Well\\nJohnsonfort, RI 15199', 'latitude': '14.3682355', 'longitude': '36.897178'}, 14: {'id': 19, 'name': 'Mrs. Jennifer Goodwin', 'address': '574 Jordan Manor\\nWest Zachary, WY 92291', 'latitude': '-55.146170', 'longitude': '-22.163726'}, 15: {'id': 63, 'name': 'Amanda Hughes', 'address': '9389 Richard Squares Suite 989\\nNew Andrew, AL 49195', 'latitude': '-36.1300205', 'longitude': '-46.242240'}, 16: {'id': 73, 'name': 'Dustin Garner', 'address': 'PSC 2859, Box 0625\\nAPO AE 49827', 'latitude': '-54.647646', 'longitude': '-171.064082'}, 17: {'id': 58, 'name': 'Gregory Simpson', 'address': '843 Abigail Streets\\nCamposland, PA 74704', 'latitude': '32.048085', 'longitude': '-169.541282'}, 18: {'id': 58, 'name': 'Donna Price', 'address': '71741 Kyle Curve Suite 232\\nYoungborough, WY 66148', 'latitude': '-83.7483065', 'longitude': '40.694131'}, 19: {'id': 30, 'name': 'Sara Herman', 'address': '6190 Peter Glens\\nWest Annafort, NE 28310', 'latitude': '-49.784020', 'longitude': '-38.463796'}, 20: {'id': 57, 'name': 'Gina Randolph', 'address': '91319 Miller Route Apt. 666\\nRodriguezville, NH 29959', 'latitude': '-81.7864315', 'longitude': '-41.770197'}, 21: {'id': 98, 'name': 'Justin Wagner', 'address': '130 Thompson Lake\\nWest Christinemouth, GA 13296', 'latitude': '-0.3643125', 'longitude': '-156.318070'}, 22: {'id': 65, 'name': 'Anne Cook', 'address': '794 Galloway Station\\nNorth Mark, CO 77898', 'latitude': '-32.1753785', 'longitude': '-170.793462'}, 23: {'id': 38, 'name': 'Robert Gomez', 'address': '6668 Nathaniel Row\\nLake Lindsay, MI 46769', 'latitude': '-63.0388795', 'longitude': '84.123739'}, 24: {'id': 75, 'name': 'Colleen Delacruz', 'address': '6620 Bradley Court Apt. 840\\nPort Mary, RI 71385', 'latitude': '72.859036', 'longitude': '53.814352'}, 25: {'id': 68, 'name': 'Reginald Rowe', 'address': '680 Gutierrez Tunnel\\nNorth Monica, OH 60097', 'latitude': '11.722185', 'longitude': '11.515132'}, 26: {'id': 57, 'name': 'Laura Cervantes', 'address': '3397 Morgan Row\\nEast Elizabeth, MD 23433', 'latitude': '-20.884752', 'longitude': '172.698217'}, 27: {'id': 85, 'name': 'Michael Cook', 'address': '9495 Brown Stream\\nMarkhaven, GA 76471', 'latitude': '-34.358418', 'longitude': '-139.657561'}, 28: {'id': 80, 'name': 'Maria Wright', 'address': '307 Davis Course Suite 155\\nPort Angelaville, MN 48800', 'latitude': '35.2037925', 'longitude': '1.257707'}, 29: {'id': 8, 'name': 'Amanda Gonzales', 'address': '940 Silva Rapids Suite 205\\nSmithland, NJ 21419', 'latitude': '51.076491', 'longitude': '132.970287'}, 30: {'id': 3, 'name': 'Ronald Hanna', 'address': '8022 Black Brooks\\nDavidberg, MA 85505', 'latitude': '67.231165', 'longitude': '-93.512116'}, 31: {'id': 2, 'name': 'Daniel Roy', 'address': '17120 Kimberly Dale\\nRobinsonview, OR 34241', 'latitude': '-66.1588835', 'longitude': '17.180240'}, 32: {'id': 78, 'name': 'Amber Bell', 'address': '4983 Williams Vista\\nAlexside, MA 18214', 'latitude': '-52.712968', 'longitude': '-59.149773'}, 33: {'id': 42, 'name': 'Andrew Shelton', 'address': '728 Anthony Garden\\nRodriguezport, KS 33309', 'latitude': '-40.9800745', 'longitude': '-171.353514'}, 34: {'id': 53, 'name': 'Robert Delgado', 'address': '36626 Thomas Vista\\nNorth Sherylhaven, WI 53632', 'latitude': '71.421676', 'longitude': '-52.280376'}, 35: {'id': 82, 'name': 'Cindy King', 'address': '36705 Hill Drive\\nNew Julie, DE 23222', 'latitude': '41.1260855', 'longitude': '40.320913'}, 36: {'id': 82, 'name': 'Belinda Crawford', 'address': '8862 Ellen Station\\nLake Brianna, MN 99842', 'latitude': '-45.406228', 'longitude': '-162.525156'}, 37: {'id': 84, 'name': 'Brad Mejia', 'address': '9491 Gabrielle Ferry\\nSouth Robertfurt, MN 03845', 'latitude': '-9.8585815', 'longitude': '-145.396129'}, 38: {'id': 89, 'name': 'Charles Newton', 'address': '81386 Stacy Keys\\nWest Chaseview, AL 05774', 'latitude': '-23.2055225', 'longitude': '133.183919'}, 39: {'id': 47, 'name': 'Kimberly York', 'address': '1509 Webster Dale Apt. 595\\nSilvaport, WY 44875', 'latitude': '63.2667005', 'longitude': '111.849917'}, 40: {'id': 69, 'name': 'Tara Conley', 'address': '4488 Ashley Grove Suite 095\\nJeffreyside, OR 20874', 'latitude': '31.833327', 'longitude': '-141.505258'}, 41: {'id': 52, 'name': 'Carrie Weber', 'address': '97382 Robert Mountains Apt. 101\\nFisherchester, WY 56202', 'latitude': '-23.3227085', 'longitude': '-119.144165'}, 42: {'id': 14, 'name': 'Lisa Kirby', 'address': '0617 Joseph Prairie\\nRitastad, NY 72985', 'latitude': '65.723555', 'longitude': '36.061891'}, 43: {'id': 17, 'name': 'Mckenzie Moyer', 'address': '481 Emma River Suite 893\\nEast Josephborough, NH 02335', 'latitude': '-3.054705', 'longitude': '22.909796'}, 44: {'id': 82, 'name': 'David Black', 'address': '42094 Cole Road Suite 134\\nRichardhaven, GA 44033', 'latitude': '49.344304', 'longitude': '41.990348'}, 45: {'id': 80, 'name': 'Dustin Jones', 'address': '507 Davidson Brooks\\nSouth Deannaport, WV 56383', 'latitude': '67.1936625', 'longitude': '74.313540'}, 46: {'id': 94, 'name': 'Darlene Raymond', 'address': 'USNS Adkins\\nFPO AE 29397', 'latitude': '19.800332', 'longitude': '-24.535655'}, 47: {'id': 45, 'name': 'Raymond Koch', 'address': '1129 John Key\\nEast Kevinmouth, CT 78667', 'latitude': '12.1993275', 'longitude': '173.570643'}, 48: {'id': 3, 'name': 'Robert Arroyo', 'address': '442 Holland Loaf\\nGibbston, MI 66406', 'latitude': '63.214486', 'longitude': '-1.027571'}, 49: {'id': 27, 'name': 'Christopher Walton', 'address': '860 Raymond Canyon Apt. 540\\nPort Allison, LA 48104', 'latitude': '-3.9379635', 'longitude': '-64.292837'}, 50: {'id': 55, 'name': 'Justin Brown', 'address': '6691 Rivera Shoal\\nEast Steven, NE 66096', 'latitude': '-34.426533', 'longitude': '88.784451'}, 51: {'id': 64, 'name': 'Tracy Barton', 'address': 'PSC 0236, Box 6809\\nAPO AA 89447', 'latitude': '-75.303351', 'longitude': '-166.013086'}, 52: {'id': 83, 'name': 'Brett King', 'address': '436 George View\\nChristinamouth, CA 61605', 'latitude': '-61.8988745', 'longitude': '52.149342'}, 53: {'id': 32, 'name': 'Andrea Mcdowell', 'address': '602 Susan Fall\\nNorth Kristen, DE 98506', 'latitude': '12.490461', 'longitude': '-114.515488'}, 54: {'id': 63, 'name': 'Michelle Stevens', 'address': '7770 Lisa Junctions\\nLongbury, SC 71372', 'latitude': '55.023251', 'longitude': '-116.784806'}, 55: {'id': 95, 'name': 'Cassandra Peterson', 'address': '086 Hogan Radial\\nJohnfurt, GA 05948', 'latitude': '87.2912965', 'longitude': '-24.510824'}, 56: {'id': 91, 'name': 'Isabel Washington', 'address': '888 Kyle Lodge Apt. 816\\nChristophershire, SC 62962', 'latitude': '-72.142576', 'longitude': '-67.063638'}, 57: {'id': 99, 'name': 'Jonathan Martin', 'address': '017 Crawford Mall Apt. 393\\nNorth Spencerfort, OK 20631', 'latitude': '69.392847', 'longitude': '-116.006987'}, 58: {'id': 70, 'name': 'Jason Mcdaniel', 'address': '27518 Wilson Brook Apt. 459\\nWest Anthony, OR 88333', 'latitude': '-55.864678', 'longitude': '-171.950624'}, 59: {'id': 98, 'name': 'Robert Lowery', 'address': '7558 Amy Center\\nJonesside, WV 32110', 'latitude': '42.515765', 'longitude': '-168.652107'}, 60: {'id': 83, 'name': 'Michael Prince', 'address': '9201 Kyle Manors\\nLongmouth, PA 46548', 'latitude': '78.3573705', 'longitude': '152.640884'}, 61: {'id': 14, 'name': 'Mary Blake', 'address': 'Unit 9833 Box 1550\\nDPO AA 81641', 'latitude': '2.7588965', 'longitude': '-20.971890'}, 62: {'id': 74, 'name': 'Kayla James', 'address': '289 Richard Crossroad Apt. 002\\nLake Shannonland, VT 96721', 'latitude': '41.998959', 'longitude': '-46.214734'}, 63: {'id': 88, 'name': 'Alexandra Moore', 'address': '3172 Marc Rue\\nStaffordborough, WV 04161', 'latitude': '-45.2922695', 'longitude': '-94.254739'}, 64: {'id': 21, 'name': 'Mary Olson', 'address': '099 Erica Bridge\\nWest Vernonfurt, MA 73380', 'latitude': '47.8909765', 'longitude': '-93.368515'}, 65: {'id': 76, 'name': 'Deborah Obrien', 'address': '69367 Dawn Skyway\\nChadfort, MS 11446', 'latitude': '55.463369', 'longitude': '3.140384'}, 66: {'id': 76, 'name': 'Tonya Welch', 'address': '495 Mack Canyon\\nHallstad, NC 93038', 'latitude': '-81.2375305', 'longitude': '163.311929'}, 67: {'id': 4, 'name': 'Pamela Crawford', 'address': 'USS Jones\\nFPO AE 76503', 'latitude': '21.444132', 'longitude': '-79.725561'}, 68: {'id': 84, 'name': 'Jennifer Hill', 'address': '3698 George Tunnel\\nLake Richardborough, DE 78416', 'latitude': '41.901059', 'longitude': '-102.963014'}, 69: {'id': 74, 'name': 'April Arnold', 'address': '69166 Hayes Key Suite 303\\nTimothyshire, TN 95958', 'latitude': '-54.9428875', 'longitude': '125.157897'}, 70: {'id': 16, 'name': 'Tracy Freeman', 'address': '44214 Amber Via Apt. 543\\nAlexisbury, AZ 09610', 'latitude': '8.7926435', 'longitude': '-14.803461'}, 71: {'id': 23, 'name': 'Jorge Stark', 'address': '81214 Roberts Overpass\\nPort Kathleenshire, NY 22243', 'latitude': '-66.8041035', 'longitude': '-55.168061'}, 72: {'id': 88, 'name': 'Frank Page', 'address': '6095 Torres Bridge\\nNorth Alyssa, RI 44725', 'latitude': '-74.9408755', 'longitude': '161.060456'}, 73: {'id': 12, 'name': 'Devin Frederick', 'address': '7421 Herrera Skyway\\nBrianhaven, AZ 78022', 'latitude': '-75.2713965', 'longitude': '95.317473'}, 74: {'id': 45, 'name': 'Christine Rogers', 'address': '930 Graham Haven\\nNew Nina, CT 36394', 'latitude': '35.730778', 'longitude': '-117.743820'}, 75: {'id': 38, 'name': 'Tammy Sloan', 'address': '2116 Carl Plaza\\nEast Amanda, MT 60079', 'latitude': '40.5128695', 'longitude': '23.537205'}, 76: {'id': 18, 'name': 'Jamie Higgins', 'address': '0943 Chase Rapids\\nHamptonmouth, AR 98511', 'latitude': '-35.9970305', 'longitude': '88.350301'}, 77: {'id': 56, 'name': 'Eric Newton', 'address': '036 Jeffrey Walk Apt. 511\\nEast Matthew, VA 14889', 'latitude': '-82.981379', 'longitude': '-3.455807'}, 78: {'id': 48, 'name': 'Connie Roman', 'address': 'Unit 4294 Box 4493\\nDPO AE 29105', 'latitude': '-71.2693685', 'longitude': '111.771711'}, 79: {'id': 87, 'name': 'Brittany Jones', 'address': '17882 Donna Burg Suite 228\\nNoahmouth, MO 04966', 'latitude': '50.813981', 'longitude': '-51.566954'}, 80: {'id': 27, 'name': 'Paula Williams', 'address': '9249 Cody Fords Suite 423\\nPort Larrybury, PA 06424', 'latitude': '-70.7803345', 'longitude': '-55.112837'}, 81: {'id': 33, 'name': 'George Weaver', 'address': '7985 Linda Locks\\nTammiemouth, OH 73380', 'latitude': '-86.978804', 'longitude': '-98.998021'}, 82: {'id': 75, 'name': 'Nicole Middleton', 'address': '2551 Bolton Knolls\\nPort Alexander, FL 81609', 'latitude': '-78.7837165', 'longitude': '-40.897920'}, 83: {'id': 83, 'name': 'Amanda Roberts', 'address': 'USNS Smith\\nFPO AA 29700', 'latitude': '-12.906594', 'longitude': '151.747295'}, 84: {'id': 63, 'name': 'Megan Harrington', 'address': '499 Arellano Vista\\nNorth Brian, DE 77210', 'latitude': '-27.6175975', 'longitude': '-42.455786'}, 85: {'id': 84, 'name': 'Megan Dougherty', 'address': '7287 Hayes Parkway\\nLauramouth, CT 13872', 'latitude': '73.4367265', 'longitude': '-83.520849'}, 86: {'id': 53, 'name': 'Elizabeth Johnson', 'address': '9978 Guzman Island Suite 192\\nRussellville, SC 29037', 'latitude': '79.2486735', 'longitude': '-19.236484'}, 87: {'id': 95, 'name': 'Dr. Ashley Burton', 'address': '68065 Kelly Coves\\nSmithland, SC 99448', 'latitude': '17.106798', 'longitude': '-34.607210'}, 88: {'id': 24, 'name': 'Heather Higgins', 'address': '206 Raymond Harbor\\nPort Roger, DC 66570', 'latitude': '82.9599085', 'longitude': '-6.071630'}, 89: {'id': 4, 'name': 'Rachel Anderson', 'address': '7856 David Canyon Suite 203\\nWayneborough, NJ 98185', 'latitude': '-29.6256345', 'longitude': '146.162764'}, 90: {'id': 66, 'name': 'Anita Jones', 'address': '5863 Michael Wells\\nJesusshire, DC 28744', 'latitude': '-84.5084885', 'longitude': '-87.245810'}, 91: {'id': 26, 'name': 'Cody Wu', 'address': '66464 Holly Turnpike\\nWolfeland, VA 42859', 'latitude': '-78.692654', 'longitude': '-104.554155'}, 92: {'id': 1, 'name': 'Karina Haynes', 'address': '976 Robert Cliffs\\nHarriston, MI 39910', 'latitude': '-47.362977', 'longitude': '-90.118074'}, 93: {'id': 8, 'name': 'James Kim', 'address': '11540 Brian Shores Apt. 025\\nNew Bruce, IN 26615', 'latitude': '52.3535405', 'longitude': '-110.215079'}, 94: {'id': 56, 'name': 'Stephen Finley', 'address': 'PSC 8318, Box 1171\\nAPO AE 53843', 'latitude': '35.5956905', 'longitude': '-151.560246'}, 95: {'id': 44, 'name': 'Emma Jones', 'address': '923 Jasmine Pine Apt. 198\\nKiarahaven, AK 13812', 'latitude': '39.5100025', 'longitude': '-131.166729'}, 96: {'id': 8, 'name': 'Amy Cohen', 'address': '4489 Johnny Camp\\nNew Tiffanyberg, KS 58216', 'latitude': '-17.5156695', 'longitude': '112.617334'}, 97: {'id': 14, 'name': 'Christopher Sanders', 'address': '578 Cody Manor Apt. 527\\nGarystad, MT 72494', 'latitude': '-38.2876115', 'longitude': '-9.245579'}, 98: {'id': 94, 'name': 'Amanda Meza', 'address': '40023 Carol Brook Suite 468\\nSouth Kevin, AR 59428', 'latitude': '34.229082', 'longitude': '37.461010'}, 99: {'id': 4, 'name': 'Brittney Snow', 'address': '3281 Mary Stravenue Suite 717\\nGrossmouth, CA 79657', 'latitude': '-41.9358235', 'longitude': '-11.344311'}}\n"
          ],
          "name": "stdout"
        }
      ]
    },
    {
      "cell_type": "code",
      "metadata": {
        "colab": {
          "base_uri": "https://localhost:8080/"
        },
        "id": "tsvWHODSxtgr",
        "outputId": "461791a8-ccf8-4072-c0d3-fd48729a9654"
      },
      "source": [
        "print(main)"
      ],
      "execution_count": 10,
      "outputs": [
        {
          "output_type": "stream",
          "text": [
            "<function main at 0x7f0865ee75f0>\n"
          ],
          "name": "stdout"
        }
      ]
    },
    {
      "cell_type": "code",
      "metadata": {
        "colab": {
          "base_uri": "https://localhost:8080/"
        },
        "id": "irUst7yvyOyZ",
        "outputId": "f24df718-41e7-445b-c418-7e72c7ef2ddd"
      },
      "source": [
        "\n",
        "from  faker import Faker\n",
        "fake = Faker()\n",
        "print(fake.profile())"
      ],
      "execution_count": 17,
      "outputs": [
        {
          "output_type": "stream",
          "text": [
            "{'job': 'Television floor manager', 'company': 'Franklin, Brown and Webster', 'ssn': '777-83-2150', 'residence': '0726 Rhonda Way Suite 284\\nMurilloland, VT 85536', 'current_location': (Decimal('19.197809'), Decimal('-164.674235')), 'blood_group': 'AB-', 'website': ['https://www.myers.com/'], 'username': 'aaronlyons', 'name': 'Evan Warner', 'sex': 'M', 'address': '25039 Nancy Ridges Suite 457\\nRyanshire, GA 26926', 'mail': 'cwallace@gmail.com', 'birthdate': datetime.date(1947, 9, 20)}\n"
          ],
          "name": "stdout"
        }
      ]
    },
    {
      "cell_type": "code",
      "metadata": {
        "id": "g7o2FcvGzlkn"
      },
      "source": [
        "df = pd.DataFrame.from_records(d')"
      ],
      "execution_count": 31,
      "outputs": []
    },
    {
      "cell_type": "code",
      "metadata": {
        "colab": {
          "base_uri": "https://localhost:8080/",
          "height": 197
        },
        "id": "OULpnvNGz0uj",
        "outputId": "0f9fa4a2-4c9f-41a2-9c8a-d43c3c147a11"
      },
      "source": [
        "df.head()"
      ],
      "execution_count": 32,
      "outputs": [
        {
          "output_type": "execute_result",
          "data": {
            "text/html": [
              "<div>\n",
              "<style scoped>\n",
              "    .dataframe tbody tr th:only-of-type {\n",
              "        vertical-align: middle;\n",
              "    }\n",
              "\n",
              "    .dataframe tbody tr th {\n",
              "        vertical-align: top;\n",
              "    }\n",
              "\n",
              "    .dataframe thead th {\n",
              "        text-align: right;\n",
              "    }\n",
              "</style>\n",
              "<table border=\"1\" class=\"dataframe\">\n",
              "  <thead>\n",
              "    <tr style=\"text-align: right;\">\n",
              "      <th></th>\n",
              "      <th>0</th>\n",
              "    </tr>\n",
              "  </thead>\n",
              "  <tbody>\n",
              "    <tr>\n",
              "      <th>0</th>\n",
              "      <td>f</td>\n",
              "    </tr>\n",
              "    <tr>\n",
              "      <th>1</th>\n",
              "      <td>a</td>\n",
              "    </tr>\n",
              "    <tr>\n",
              "      <th>2</th>\n",
              "      <td>k</td>\n",
              "    </tr>\n",
              "    <tr>\n",
              "      <th>3</th>\n",
              "      <td>e</td>\n",
              "    </tr>\n",
              "    <tr>\n",
              "      <th>4</th>\n",
              "      <td>.</td>\n",
              "    </tr>\n",
              "  </tbody>\n",
              "</table>\n",
              "</div>"
            ],
            "text/plain": [
              "   0\n",
              "0  f\n",
              "1  a\n",
              "2  k\n",
              "3  e\n",
              "4  ."
            ]
          },
          "metadata": {
            "tags": []
          },
          "execution_count": 32
        }
      ]
    },
    {
      "cell_type": "code",
      "metadata": {
        "id": "jMxdGYTA3hdC"
      },
      "source": [
        ""
      ],
      "execution_count": null,
      "outputs": []
    }
  ]
}